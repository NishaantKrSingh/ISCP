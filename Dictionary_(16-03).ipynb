{
 "cells": [
  {
   "cell_type": "code",
   "execution_count": 2,
   "id": "d8ca3968",
   "metadata": {},
   "outputs": [
    {
     "data": {
      "text/plain": [
       "dict"
      ]
     },
     "execution_count": 2,
     "metadata": {},
     "output_type": "execute_result"
    }
   ],
   "source": [
    "# DICTIONARY\n",
    "s={}\n",
    "type(s)"
   ]
  },
  {
   "cell_type": "code",
   "execution_count": 3,
   "id": "fecc632f",
   "metadata": {},
   "outputs": [
    {
     "data": {
      "text/plain": [
       "dict"
      ]
     },
     "execution_count": 3,
     "metadata": {},
     "output_type": "execute_result"
    }
   ],
   "source": [
    "d=dict()\n",
    "type(d)"
   ]
  },
  {
   "cell_type": "code",
   "execution_count": 6,
   "id": "fbc48acd",
   "metadata": {},
   "outputs": [
    {
     "data": {
      "text/plain": [
       "set"
      ]
     },
     "execution_count": 6,
     "metadata": {},
     "output_type": "execute_result"
    }
   ],
   "source": [
    "s=set()\n",
    "type(s)"
   ]
  },
  {
   "cell_type": "code",
   "execution_count": 7,
   "id": "4d676b60",
   "metadata": {},
   "outputs": [
    {
     "name": "stdout",
     "output_type": "stream",
     "text": [
      "{'name': 'Arvind', 'roll_no': 2, 'class': 11}\n",
      "Arvind\n",
      "2\n"
     ]
    }
   ],
   "source": [
    "dc={'Name':'Dharan','Roll_no':2,'Class':11}\n",
    "print(dc)\n",
    "print(dc['Name'])\n",
    "print(dc.get('Roll_no'))"
   ]
  },
  {
   "cell_type": "code",
   "execution_count": 9,
   "id": "965779ae",
   "metadata": {},
   "outputs": [
    {
     "name": "stdout",
     "output_type": "stream",
     "text": [
      "1\n"
     ]
    },
    {
     "ename": "KeyError",
     "evalue": "'e'",
     "output_type": "error",
     "traceback": [
      "\u001b[1;31m---------------------------------------------------------------------------\u001b[0m",
      "\u001b[1;31mKeyError\u001b[0m                                  Traceback (most recent call last)",
      "Cell \u001b[1;32mIn[9], line 3\u001b[0m\n\u001b[0;32m      1\u001b[0m d\u001b[38;5;241m=\u001b[39m{\u001b[38;5;124m'\u001b[39m\u001b[38;5;124ma\u001b[39m\u001b[38;5;124m'\u001b[39m:\u001b[38;5;241m1\u001b[39m,\u001b[38;5;124m'\u001b[39m\u001b[38;5;124mb\u001b[39m\u001b[38;5;124m'\u001b[39m:\u001b[38;5;241m2\u001b[39m}\n\u001b[0;32m      2\u001b[0m \u001b[38;5;28mprint\u001b[39m(d[\u001b[38;5;124m'\u001b[39m\u001b[38;5;124ma\u001b[39m\u001b[38;5;124m'\u001b[39m])\n\u001b[1;32m----> 3\u001b[0m \u001b[38;5;28mprint\u001b[39m(\u001b[43md\u001b[49m\u001b[43m[\u001b[49m\u001b[38;5;124;43m'\u001b[39;49m\u001b[38;5;124;43me\u001b[39;49m\u001b[38;5;124;43m'\u001b[39;49m\u001b[43m]\u001b[49m)\n",
      "\u001b[1;31mKeyError\u001b[0m: 'e'"
     ]
    }
   ],
   "source": [
    "d={'a':1,'b':2}\n",
    "print(d['a'])\n",
    "print(d['e'])"
   ]
  },
  {
   "cell_type": "code",
   "execution_count": 11,
   "id": "fb94b4e8",
   "metadata": {},
   "outputs": [
    {
     "name": "stdout",
     "output_type": "stream",
     "text": [
      "1\n",
      "None\n",
      "Not Avaialble\n",
      "0\n"
     ]
    }
   ],
   "source": [
    "d={'a':1,'b':2}\n",
    "print(d['a'])\n",
    "#print(d['e'])\n",
    "print(d.get('c'))\n",
    "print(d.get('c','Not Avaialble'))\n",
    "print(d.get('c','0'))"
   ]
  },
  {
   "cell_type": "code",
   "execution_count": 14,
   "id": "d5c4ae5d",
   "metadata": {},
   "outputs": [
    {
     "name": "stdout",
     "output_type": "stream",
     "text": [
      "{1: 'Apple', (4, 5): 'Banana', 6.2: 'Papaya'}\n",
      "Banana\n"
     ]
    }
   ],
   "source": [
    "d={1:'Apple', (4,5):'Banana', 6.2:'Papaya'}\n",
    "print(d)\n",
    "print(d[(4,5)])"
   ]
  },
  {
   "cell_type": "code",
   "execution_count": 15,
   "id": "77862efb",
   "metadata": {},
   "outputs": [
    {
     "ename": "TypeError",
     "evalue": "unhashable type: 'list'",
     "output_type": "error",
     "traceback": [
      "\u001b[1;31m---------------------------------------------------------------------------\u001b[0m",
      "\u001b[1;31mTypeError\u001b[0m                                 Traceback (most recent call last)",
      "Cell \u001b[1;32mIn[15], line 1\u001b[0m\n\u001b[1;32m----> 1\u001b[0m d\u001b[38;5;241m=\u001b[39m{[\u001b[38;5;241m2\u001b[39m,\u001b[38;5;241m3\u001b[39m]:\u001b[38;5;124m'\u001b[39m\u001b[38;5;124mMango\u001b[39m\u001b[38;5;124m'\u001b[39m}\n\u001b[0;32m      2\u001b[0m \u001b[38;5;28mprint\u001b[39m(d)\n",
      "\u001b[1;31mTypeError\u001b[0m: unhashable type: 'list'"
     ]
    }
   ],
   "source": [
    "d={[2,3]:'Mango'}\n",
    "print(d)"
   ]
  },
  {
   "cell_type": "code",
   "execution_count": 16,
   "id": "9e39137e",
   "metadata": {},
   "outputs": [
    {
     "name": "stdout",
     "output_type": "stream",
     "text": [
      "1 A\n",
      "2 B\n",
      "3 C\n",
      "4 D\n",
      "--------------------------------------------------\n",
      "dict_keys([1, 2, 3, 4])\n",
      "--------------------------------------------------\n",
      "dict_values(['A', 'B', 'C', 'D'])\n"
     ]
    }
   ],
   "source": [
    "# Traversing dictionary\n",
    "d={1:'A', 2 : 'B', 3 : 'C' , 4 : 'D'}\n",
    "for i in d:\n",
    "    print(i,d[i])\n",
    "print('-'*50)\n",
    "print(d.keys())\n",
    "print('-'*50)\n",
    "print(d.values())"
   ]
  },
  {
   "cell_type": "code",
   "execution_count": 19,
   "id": "51ff714d",
   "metadata": {},
   "outputs": [
    {
     "name": "stdout",
     "output_type": "stream",
     "text": [
      "{1: 'A'}\n",
      "{1: 'B'}\n"
     ]
    }
   ],
   "source": [
    "d={}\n",
    "d[1]=\"A\"\n",
    "print(d)\n",
    "d[1]=\"B\"\n",
    "print(d)"
   ]
  },
  {
   "cell_type": "code",
   "execution_count": 23,
   "id": "63370506",
   "metadata": {},
   "outputs": [
    {
     "data": {
      "text/plain": [
       "'Apple'"
      ]
     },
     "execution_count": 23,
     "metadata": {},
     "output_type": "execute_result"
    }
   ],
   "source": [
    "# Adding/Deleting element from the dictionary\n",
    "d={1:\"Apple\", 2:\"Mango\"}\n",
    "d.pop(1)\n",
    "#print(d)"
   ]
  },
  {
   "cell_type": "code",
   "execution_count": 26,
   "id": "468a14a5",
   "metadata": {},
   "outputs": [
    {
     "data": {
      "text/plain": [
       "(2, 'Mango')"
      ]
     },
     "execution_count": 26,
     "metadata": {},
     "output_type": "execute_result"
    }
   ],
   "source": [
    "d={1:\"Apple\", 2:\"Mango\"}\n",
    "d.popitem()\n",
    "#print(d)"
   ]
  },
  {
   "cell_type": "code",
   "execution_count": 30,
   "id": "3c44826a",
   "metadata": {},
   "outputs": [
    {
     "name": "stdout",
     "output_type": "stream",
     "text": [
      "{'1': 'Apple', 2: 'Mango'}\n"
     ]
    }
   ],
   "source": [
    "d={\"1\":\"Apple\", 2:\"Mango\"}\n",
    "print(d)"
   ]
  },
  {
   "cell_type": "code",
   "execution_count": 31,
   "id": "257d083b",
   "metadata": {},
   "outputs": [
    {
     "name": "stdout",
     "output_type": "stream",
     "text": [
      "{'name': 'A', 'salary': 20000, 'age': 19}\n"
     ]
    }
   ],
   "source": [
    "d=dict(zip((\"Name\",\"salary\",\"age\"),(\"A\",20000,19)))\n",
    "print(d)"
   ]
  },
  {
   "cell_type": "code",
   "execution_count": 34,
   "id": "31642970",
   "metadata": {},
   "outputs": [
    {
     "name": "stdout",
     "output_type": "stream",
     "text": [
      "{'Name': 'A', 'Salary': 20000, 'Age': 19}\n",
      "{'Name': 'D', 'Salary': 20000, 'Age': 20}\n"
     ]
    }
   ],
   "source": [
    "# Update()\n",
    "d=dict(zip((\"Name\",\"Salary\",\"Age\"),(\"A\",20000,19)))\n",
    "e={\"Name\":\"D\",\"Age\":20}\n",
    "print(d)\n",
    "d.update(e)\n",
    "print(d)"
   ]
  },
  {
   "cell_type": "code",
   "execution_count": 39,
   "id": "8720dae6",
   "metadata": {},
   "outputs": [
    {
     "name": "stdout",
     "output_type": "stream",
     "text": [
      "{'A': {'Age': 20, 'Salary': 20000}, 'B': {'Age': 21, 'Salary': 25000}}\n",
      "A\n",
      "B\n",
      "A B\n",
      "Age 21\n",
      "Salary 25000\n"
     ]
    }
   ],
   "source": [
    "# Dict(Dict)\n",
    "d={\"A\":{\"Age\":20,\"Salary\":20000},\"B\":{\"Age\":21,\"Salary\":25000}}\n",
    "print(d)\n",
    "\n",
    "for key in d:\n",
    "    print(key)\n",
    "print(\"A\" , key)\n",
    "print(\"Age\",str(d[key][\"Age\"]))\n",
    "print(\"Salary\",str(d[key][\"Salary\"]))"
   ]
  },
  {
   "cell_type": "code",
   "execution_count": 41,
   "id": "f4486e63",
   "metadata": {},
   "outputs": [
    {
     "name": "stdout",
     "output_type": "stream",
     "text": [
      "['Black', 'White']\n",
      "Black : 10000\n",
      "White : 99999\n"
     ]
    }
   ],
   "source": [
    "# Sorted\n",
    "d={ \"White\" : 99999, \"Black\" : 10000 }\n",
    "print(sorted(d))\n",
    "for key in sorted(d):\n",
    "    print(\"%s : %s\"%(key,d[key]))"
   ]
  },
  {
   "cell_type": "markdown",
   "id": "ba22c02c",
   "metadata": {},
   "source": [
    "### Create a Dictionary from a String"
   ]
  },
  {
   "cell_type": "code",
   "execution_count": 65,
   "id": "9dabe6a6",
   "metadata": {},
   "outputs": [
    {
     "name": "stdout",
     "output_type": "stream",
     "text": [
      "{'C': 3, 'P': 1, 'y': 1, 't': 1, 'h': 1, 'o': 1, 'n': 1}\n"
     ]
    }
   ],
   "source": [
    "# from collections import defaultdict, Counter\n",
    "str1=\"CCCPython\"\n",
    "#d={\"C\":9}\n",
    "d={}\n",
    "for i in str1:\n",
    "    d[i]=d.get(i,0)+1\n",
    "print(d)"
   ]
  },
  {
   "cell_type": "code",
   "execution_count": 70,
   "id": "61f7a36a",
   "metadata": {},
   "outputs": [
    {
     "name": "stdout",
     "output_type": "stream",
     "text": [
      "{1: 'Apple', 2: 'Mango'}\n",
      "-------------------------\n",
      "{1: 'Apple', 2: 'Banana'}\n"
     ]
    }
   ],
   "source": [
    "# Updating a element\n",
    "d={1:\"Apple\", 2:\"Mango\"}\n",
    "print(d)\n",
    "d[2]=\"Banana\"\n",
    "print(\"-\"*25)\n",
    "print(d)"
   ]
  },
  {
   "cell_type": "code",
   "execution_count": 71,
   "id": "0e277283",
   "metadata": {},
   "outputs": [
    {
     "name": "stdout",
     "output_type": "stream",
     "text": [
      "{1: 'Apple', 2: 'Mango'}\n",
      "-------------------------\n",
      "{1: 'Apple'}\n"
     ]
    }
   ],
   "source": [
    "# Deleting an element\n",
    "d={1:\"Apple\", 2:\"Mango\"}\n",
    "print(d)\n",
    "del d[2]\n",
    "print(\"-\"*25)\n",
    "print(d)"
   ]
  },
  {
   "cell_type": "code",
   "execution_count": 72,
   "id": "8d750e45",
   "metadata": {},
   "outputs": [
    {
     "name": "stdout",
     "output_type": "stream",
     "text": [
      "{1: 'Apple', 2: 'Mango'}\n",
      "{}\n"
     ]
    }
   ],
   "source": [
    "# Clear\n",
    "d={1:\"Apple\", 2:\"Mango\"}\n",
    "print(d)\n",
    "d.clear()\n",
    "print(d)"
   ]
  },
  {
   "cell_type": "code",
   "execution_count": 73,
   "id": "512127ee",
   "metadata": {},
   "outputs": [
    {
     "name": "stdout",
     "output_type": "stream",
     "text": [
      "{1: 'Apple', 2: 'Mango'}\n",
      "-------------------------\n",
      "{1: 'Apple', 2: 'Mango'}\n"
     ]
    }
   ],
   "source": [
    "# Copy\n",
    "d={1:\"Apple\", 2:\"Mango\"}\n",
    "print(d)\n",
    "d1=d.copy\n",
    "print(\"-\"*25)\n",
    "print(d)"
   ]
  },
  {
   "cell_type": "code",
   "execution_count": 76,
   "id": "452ea573",
   "metadata": {},
   "outputs": [
    {
     "name": "stdout",
     "output_type": "stream",
     "text": [
      "dict_items([(1, 'A'), (2, 'B'), (3, 'C')])\n",
      "1 -> A\n",
      "2 -> B\n",
      "3 -> C\n"
     ]
    }
   ],
   "source": [
    "d = { 1 : \"A\" , 2 : \"B\" , 3 : \"C\" }\n",
    "x = d.items()\n",
    "print(x)\n",
    "for i,j in x:\n",
    "    print(i,\"->\",j)"
   ]
  },
  {
   "cell_type": "code",
   "execution_count": 80,
   "id": "bc173115",
   "metadata": {},
   "outputs": [
    {
     "ename": "SyntaxError",
     "evalue": "invalid syntax (2358767311.py, line 1)",
     "output_type": "error",
     "traceback": [
      "\u001b[1;36m  Cell \u001b[1;32mIn[80], line 1\u001b[1;36m\u001b[0m\n\u001b[1;33m    import collections  c\u001b[0m\n\u001b[1;37m                        ^\u001b[0m\n\u001b[1;31mSyntaxError\u001b[0m\u001b[1;31m:\u001b[0m invalid syntax\n"
     ]
    }
   ],
   "source": [
    "import collections  c\n",
    "help(c)"
   ]
  },
  {
   "cell_type": "code",
   "execution_count": null,
   "id": "a1c16432",
   "metadata": {},
   "outputs": [],
   "source": []
  }
 ],
 "metadata": {
  "kernelspec": {
   "display_name": "Python 3 (ipykernel)",
   "language": "python",
   "name": "python3"
  },
  "language_info": {
   "codemirror_mode": {
    "name": "ipython",
    "version": 3
   },
   "file_extension": ".py",
   "mimetype": "text/x-python",
   "name": "python",
   "nbconvert_exporter": "python",
   "pygments_lexer": "ipython3",
   "version": "3.11.2"
  }
 },
 "nbformat": 4,
 "nbformat_minor": 5
}
